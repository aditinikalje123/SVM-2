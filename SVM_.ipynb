{
  "nbformat": 4,
  "nbformat_minor": 0,
  "metadata": {
    "colab": {
      "provenance": []
    },
    "kernelspec": {
      "name": "python3",
      "display_name": "Python 3"
    },
    "language_info": {
      "name": "python"
    }
  },
  "cells": [
    {
      "cell_type": "code",
      "execution_count": null,
      "metadata": {
        "id": "-FeTgsiuU2Q0"
      },
      "outputs": [],
      "source": [
        "# THEORY QUESTIONS\n",
        "Q1: What is a Support Vector Machine (SVM)?\n",
        "SVM is a supervised machine learning algorithm used for classification and regression. It finds the optimal hyperplane that separates data points of different classes with the maximum margin. The closest points to the hyperplane are called support vectors.\n",
        "\n",
        "Q2: What is the difference between Hard Margin and Soft Margin SVM?\n",
        "\n",
        "Hard Margin: Assumes data is perfectly separable. No misclassification allowed. Sensitive to noise/outliers.\n",
        "Soft Margin: Allows some misclassification (controlled by C parameter) to achieve better generalization on real-world noisy data.\n",
        "\n",
        "\n",
        "Q3: What is the mathematical intuition behind SVM?\n",
        "SVM maximizes the margin between two classes by solving:\n",
        "where $w$ is the weight vector, $b$ is bias, and $y_i$ are labels. This optimization ensures the widest possible separation between classes.\n",
        "\n",
        "Q4: What is the role of Lagrange Multipliers in SVM?\n",
        "They transform the constrained optimization into a dual form, making it easier to solve. This also allows the use of kernel functions to handle non-linear data.\n",
        "\n",
        "Q5: What are Support Vectors in SVM?\n",
        "Support vectors are the data points closest to the decision boundary. They define the optimal hyperplane. If removed, the boundary would change.\n",
        "\n",
        "\n",
        "Q6: What is a Support Vector Classifier (SVC)?\n",
        "SVC is the classification version of SVM. It assigns class labels by finding the optimal hyperplane that separates classes.\n",
        "\n",
        "\n",
        "Q7: What is a Support Vector Regressor (SVR)?\n",
        "SVR adapts SVM for regression. It tries to fit the data within a margin of tolerance (ε), predicting values while keeping the model simple.\n",
        "\n",
        "Q8: What is the Kernel Trick in SVM?\n",
        "The Kernel Trick maps data into higher-dimensional space without explicitly computing the transformation. This helps SVM separate non-linear data. Examples: Linear, Polynomial, RBF.\n",
        "\n",
        "\n",
        "Q9: Compare Linear Kernel, Polynomial Kernel, and RBF Kernel.\n",
        "\n",
        "Linear: Works for linearly separable data; fast.\n",
        "Polynomial: Captures polynomial relationships between features.\n",
        "RBF (Gaussian): Handles complex, non-linear patterns; most widely used.\n",
        "\n",
        "Q10: What is the effect of the C parameter in SVM?\n",
        "\n",
        "High C: Low tolerance for errors → complex model → risk of overfitting.\n",
        "Low C: High tolerance for errors → simpler model → better generalization.\n",
        "\n",
        "\n",
        "Q11: What is the role of the Gamma parameter in RBF Kernel SVM?\n",
        "\n",
        "High Gamma: Each point has strong influence → complex, wiggly boundary → overfitting.\n",
        "Low Gamma: Each point has weak influence → smoother boundary → underfitting.\n",
        "\n",
        "\n",
        "\n",
        "Q12: What is the Naïve Bayes classifier, and why is it called \"Naïve\"?\n",
        "Naïve Bayes is a probabilistic classifier based on Bayes’ theorem. It assumes features are conditionally independent given the class. It’s “Naïve” because this assumption is usually unrealistic, but it makes the model simple and effective.\n",
        "\n",
        "\n",
        "Q13: What is Bayes’ Theorem?\n",
        "\n",
        "P(A|B) = \\frac{P(B|A) \\cdot P(A)}{P(B)}\n",
        "\n",
        "\n",
        "Where:\n",
        "\n",
        " $P(A|B)$: Posterior probability\n",
        " $P(B|A)$: Likelihood\n",
        "$P(A)$: Prior probability\n",
        "$P(B)$: Evidence\n",
        "\n",
        "\n",
        "\n",
        "Q14: Explain the differences between Gaussian Naïve Bayes, Multinomial Naïve Bayes, and Bernoulli Naïve Bayes.**\n",
        "\n",
        "Gaussian NB: For continuous data (assumes normal distribution).\n",
        "Multinomial NB: For count data (e.g., word frequencies in text).\n",
        "Bernoulli NB: For binary data (features present/absent).\n",
        "\n",
        "\n",
        "\n",
        "Q15: When should you use Gaussian Naïve Bayes over other variants?**\n",
        "Use Gaussian NB when features are continuous and approximately follow a normal distribution (e.g., medical measurements, sensor data).\n",
        "\n",
        "\n",
        "Q16: What are the key assumptions made by Naïve Bayes?**\n",
        "\n",
        "1. Features are conditionally independent given the class.\n",
        "2. Each feature contributes equally and independently to the outcome.\n",
        "\n",
        "\n",
        "\n",
        "Q17: What are the advantages and disadvantages of Naïve Bayes?**\n",
        " Advantages: Simple, fast, works well on high-dimensional data, good for text classification.\n",
        "Disadvantages: Assumption of independence often unrealistic, performs poorly when features are highly correlated.\n",
        "\n",
        "\n",
        "Q18: Why is Naïve Bayes a good choice for text classification?\n",
        "Because text features (word counts, presence/absence) are high-dimensional and mostly independent. Naïve Bayes handles this efficiently and achieves good accuracy.\n",
        "\n",
        "Q19: Compare SVM and Naïve Bayes for classification tasks.\n",
        "\n",
        "SVM: Better for complex, high-dimensional decision boundaries; slower to train.\n",
        "Naïve Bayes: Faster, works well for text, less accurate if independence assumption is violated.\n",
        "\n",
        "Q20: How does Laplace Smoothing help in Naïve Bayes?\n",
        "Laplace smoothing avoids zero probability problems. For example, if a word never appeared in training, its probability becomes zero. Smoothing adds a small count to all features so no probability is zero.\n"
      ]
    },
    {
      "cell_type": "markdown",
      "source": [
        "#PRACTICAL QUEATIONS\n",
        "Q21: Write a Python program to train an SVM Classifier on the Iris dataset and evaluate accuracy."
      ],
      "metadata": {
        "id": "QBYoIydAWRzF"
      }
    },
    {
      "cell_type": "code",
      "source": [
        "from sklearn import datasets\n",
        "from sklearn.model_selection import train_test_split\n",
        "from sklearn.svm import SVC\n",
        "from sklearn.metrics import accuracy_score\n",
        "\n",
        "# Load dataset\n",
        "iris = datasets.load_iris()\n",
        "X, y = iris.data, iris.target\n",
        "\n",
        "# Split into train & test\n",
        "X_train, X_test, y_train, y_test = train_test_split(X, y, test_size=0.2, random_state=42)\n",
        "\n",
        "# Train SVM classifier\n",
        "clf = SVC(kernel='linear')\n",
        "clf.fit(X_train, y_train)\n",
        "\n",
        "# Predict\n",
        "y_pred = clf.predict(X_test)\n",
        "\n",
        "# Evaluate\n",
        "print(\"Accuracy:\", accuracy_score(y_test, y_pred))\n"
      ],
      "metadata": {
        "colab": {
          "base_uri": "https://localhost:8080/"
        },
        "id": "Xhe_V8G3WV9Q",
        "outputId": "23c90259-3839-4e95-ff0f-f5f659c0b67c"
      },
      "execution_count": 1,
      "outputs": [
        {
          "output_type": "stream",
          "name": "stdout",
          "text": [
            "Accuracy: 1.0\n"
          ]
        }
      ]
    },
    {
      "cell_type": "markdown",
      "source": [
        "Q22: Train two SVM classifiers with Linear and RBF kernels on the Wine dataset, then compare accuracies."
      ],
      "metadata": {
        "id": "lvb1idWpWYAU"
      }
    },
    {
      "cell_type": "code",
      "source": [
        "from sklearn.datasets import load_wine\n",
        "from sklearn.model_selection import train_test_split\n",
        "from sklearn.svm import SVC\n",
        "from sklearn.metrics import accuracy_score\n",
        "\n",
        "# Load dataset\n",
        "wine = load_wine()\n",
        "X, y = wine.data, wine.target\n",
        "\n",
        "X_train, X_test, y_train, y_test = train_test_split(X, y, test_size=0.2, random_state=42)\n",
        "\n",
        "# Linear Kernel\n",
        "linear_svm = SVC(kernel='linear')\n",
        "linear_svm.fit(X_train, y_train)\n",
        "linear_acc = accuracy_score(y_test, linear_svm.predict(X_test))\n",
        "\n",
        "# RBF Kernel\n",
        "rbf_svm = SVC(kernel='rbf')\n",
        "rbf_svm.fit(X_train, y_train)\n",
        "rbf_acc = accuracy_score(y_test, rbf_svm.predict(X_test))\n",
        "\n",
        "print(\"Linear Kernel Accuracy:\", linear_acc)\n",
        "print(\"RBF Kernel Accuracy:\", rbf_acc)\n"
      ],
      "metadata": {
        "colab": {
          "base_uri": "https://localhost:8080/"
        },
        "id": "BLSbs59NWbEq",
        "outputId": "cf225947-e5a8-451f-c576-ca2213ed4898"
      },
      "execution_count": 2,
      "outputs": [
        {
          "output_type": "stream",
          "name": "stdout",
          "text": [
            "Linear Kernel Accuracy: 1.0\n",
            "RBF Kernel Accuracy: 0.8055555555555556\n"
          ]
        }
      ]
    },
    {
      "cell_type": "markdown",
      "source": [
        "Q23: Train an SVM Regressor (SVR) on a housing dataset and evaluate it using MSE."
      ],
      "metadata": {
        "id": "Nlmkbtc2Wc_J"
      }
    },
    {
      "cell_type": "code",
      "source": [
        "from sklearn.datasets import fetch_california_housing\n",
        "from sklearn.model_selection import train_test_split\n",
        "from sklearn.svm import SVR\n",
        "from sklearn.metrics import mean_squared_error\n",
        "\n",
        "# Load dataset\n",
        "housing = fetch_california_housing()\n",
        "X, y = housing.data, housing.target\n",
        "\n",
        "X_train, X_test, y_train, y_test = train_test_split(X, y, test_size=0.2, random_state=42)\n",
        "\n",
        "# Train SVR\n",
        "svr = SVR(kernel='rbf')\n",
        "svr.fit(X_train, y_train)\n",
        "\n",
        "# Predict\n",
        "y_pred = svr.predict(X_test)\n",
        "\n",
        "# Evaluate\n",
        "print(\"Mean Squared Error:\", mean_squared_error(y_test, y_pred))\n"
      ],
      "metadata": {
        "colab": {
          "base_uri": "https://localhost:8080/"
        },
        "id": "ZxKC5vqCWs-0",
        "outputId": "b339384c-3d4e-40b1-d253-30f6e77032d6"
      },
      "execution_count": 3,
      "outputs": [
        {
          "output_type": "stream",
          "name": "stdout",
          "text": [
            "Mean Squared Error: 1.3320115421348744\n"
          ]
        }
      ]
    },
    {
      "cell_type": "markdown",
      "source": [
        "Q24: Train an SVM Classifier with a Polynomial Kernel and visualize the decision boundary."
      ],
      "metadata": {
        "id": "BNfeNlYPWu-5"
      }
    },
    {
      "cell_type": "code",
      "source": [
        "import matplotlib.pyplot as plt\n",
        "from sklearn.datasets import make_classification\n",
        "from sklearn.svm import SVC\n",
        "import numpy as np\n",
        "\n",
        "# Generate 2D dataset\n",
        "X, y = make_classification(n_features=2, n_redundant=0, n_informative=2,\n",
        "                           n_clusters_per_class=1, n_samples=100, random_state=42)\n",
        "\n",
        "# Train Polynomial SVM\n",
        "clf = SVC(kernel='poly', degree=3)\n",
        "clf.fit(X, y)\n",
        "\n",
        "# Create meshgrid\n",
        "xx, yy = np.meshgrid(np.linspace(X[:,0].min()-1, X[:,0].max()+1, 200),\n",
        "                     np.linspace(X[:,1].min()-1, X[:,1].max()+1, 200))\n",
        "Z = clf.predict(np.c_[xx.ravel(), yy.ravel()])\n",
        "Z = Z.reshape(xx.shape)\n",
        "\n",
        "# Plot decision boundary\n",
        "plt.contourf(xx, yy, Z, alpha=0.3)\n",
        "plt.scatter(X[:,0], X[:,1], c=y, edgecolors='k')\n",
        "plt.title(\"Polynomial Kernel SVM Decision Boundary\")\n",
        "plt.show()\n"
      ],
      "metadata": {
        "colab": {
          "base_uri": "https://localhost:8080/",
          "height": 452
        },
        "id": "8MEbWsmWWyLR",
        "outputId": "63a94f55-ffbd-4a01-c1c1-b4c02331938e"
      },
      "execution_count": 4,
      "outputs": [
        {
          "output_type": "display_data",
          "data": {
            "text/plain": [
              "<Figure size 640x480 with 1 Axes>"
            ],
            "image/png": "[encoded data removed]"
          },
          "metadata": {}
        }
      ]
    },
    {
      "cell_type": "markdown",
      "source": [
        "Q25: Train a Gaussian Naïve Bayes classifier on the Breast Cancer dataset and evaluate accuracy."
      ],
      "metadata": {
        "id": "ZK6Kv_uqW0E-"
      }
    },
    {
      "cell_type": "code",
      "source": [
        "from sklearn.datasets import load_breast_cancer\n",
        "from sklearn.model_selection import train_test_split\n",
        "from sklearn.naive_bayes import GaussianNB\n",
        "from sklearn.metrics import accuracy_score\n",
        "\n",
        "# Load dataset\n",
        "data = load_breast_cancer()\n",
        "X, y = data.data, data.target\n",
        "\n",
        "X_train, X_test, y_train, y_test = train_test_split(X, y, test_size=0.2, random_state=42)\n",
        "\n",
        "# Train Gaussian NB\n",
        "gnb = GaussianNB()\n",
        "gnb.fit(X_train, y_train)\n",
        "\n",
        "# Predict\n",
        "y_pred = gnb.predict(X_test)\n",
        "\n",
        "# Accuracy\n",
        "print(\"Accuracy:\", accuracy_score(y_test, y_pred))\n"
      ],
      "metadata": {
        "colab": {
          "base_uri": "https://localhost:8080/"
        },
        "id": "9DO2VYtAW3zg",
        "outputId": "093ae451-53ab-4dff-89ea-5ef8b7a5e05f"
      },
      "execution_count": 5,
      "outputs": [
        {
          "output_type": "stream",
          "name": "stdout",
          "text": [
            "Accuracy: 0.9736842105263158\n"
          ]
        }
      ]
    },
    {
      "cell_type": "markdown",
      "source": [
        "Q26: Train a Multinomial Naïve Bayes classifier for text classification using the 20 Newsgroups dataset."
      ],
      "metadata": {
        "id": "tKqGg-qWW48i"
      }
    },
    {
      "cell_type": "code",
      "source": [
        "from sklearn.datasets import fetch_20newsgroups\n",
        "from sklearn.feature_extraction.text import CountVectorizer\n",
        "from sklearn.naive_bayes import MultinomialNB\n",
        "from sklearn.metrics import accuracy_score\n",
        "\n",
        "# Load dataset\n",
        "newsgroups = fetch_20newsgroups(subset='train')\n",
        "X_test_data = fetch_20newsgroups(subset='test')\n",
        "\n",
        "# Convert text to vectors\n",
        "vectorizer = CountVectorizer()\n",
        "X_train_vec = vectorizer.fit_transform(newsgroups.data)\n",
        "X_test_vec = vectorizer.transform(X_test_data.data)\n",
        "\n",
        "# Train Multinomial NB\n",
        "mnb = MultinomialNB()\n",
        "mnb.fit(X_train_vec, newsgroups.target)\n",
        "\n",
        "# Predict\n",
        "y_pred = mnb.predict(X_test_vec)\n",
        "\n",
        "# Accuracy\n",
        "print(\"Accuracy:\", accuracy_score(X_test_data.target, y_pred))\n"
      ],
      "metadata": {
        "colab": {
          "base_uri": "https://localhost:8080/"
        },
        "id": "T_slfveDW7CS",
        "outputId": "dd491133-eb12-45b7-c152-311bfcbe98d1"
      },
      "execution_count": 6,
      "outputs": [
        {
          "output_type": "stream",
          "name": "stdout",
          "text": [
            "Accuracy: 0.7728359001593202\n"
          ]
        }
      ]
    },
    {
      "cell_type": "markdown",
      "source": [
        "Q27: Train an SVM Classifier with different C values and compare the decision boundaries visually."
      ],
      "metadata": {
        "id": "-x-EYquNW8ql"
      }
    },
    {
      "cell_type": "code",
      "source": [
        "import matplotlib.pyplot as plt\n",
        "import numpy as np\n",
        "from sklearn.datasets import make_classification\n",
        "from sklearn.svm import SVC\n",
        "\n",
        "# Generate dataset\n",
        "X, y = make_classification(n_features=2, n_redundant=0, n_informative=2,\n",
        "                           n_clusters_per_class=1, n_samples=100, random_state=42)\n",
        "\n",
        "# Values of C to test\n",
        "C_values = [0.1, 1, 10]\n",
        "\n",
        "plt.figure(figsize=(12, 4))\n",
        "for i, C in enumerate(C_values):\n",
        "    clf = SVC(kernel='linear', C=C)\n",
        "    clf.fit(X, y)\n",
        "\n",
        "    # Create meshgrid\n",
        "    xx, yy = np.meshgrid(np.linspace(X[:,0].min()-1, X[:,0].max()+1, 200),\n",
        "                         np.linspace(X[:,1].min()-1, X[:,1].max()+1, 200))\n",
        "    Z = clf.predict(np.c_[xx.ravel(), yy.ravel()])\n",
        "    Z = Z.reshape(xx.shape)\n",
        "\n",
        "    plt.subplot(1, 3, i+1)\n",
        "    plt.contourf(xx, yy, Z, alpha=0.3)\n",
        "    plt.scatter(X[:,0], X[:,1], c=y, edgecolors='k')\n",
        "    plt.title(f\"SVM with C={C}\")\n",
        "\n",
        "plt.show()\n"
      ],
      "metadata": {
        "colab": {
          "base_uri": "https://localhost:8080/",
          "height": 391
        },
        "id": "66py5HmeW_3d",
        "outputId": "709d176e-ad8e-4701-e009-d41f7589fbea"
      },
      "execution_count": 7,
      "outputs": [
        {
          "output_type": "display_data",
          "data": {
            "text/plain": [
              "<Figure size 1200x400 with 3 Axes>"
            ],
            "image/png": "[encoded data removed]"
          },
          "metadata": {}
        }
      ]
    },
    {
      "cell_type": "markdown",
      "source": [
        "Q28: Train a Bernoulli Naïve Bayes classifier for binary classification on a dataset with binary features."
      ],
      "metadata": {
        "id": "JmfxoKuiXByP"
      }
    },
    {
      "cell_type": "code",
      "source": [
        "from sklearn.datasets import make_classification\n",
        "from sklearn.naive_bayes import BernoulliNB\n",
        "from sklearn.model_selection import train_test_split\n",
        "from sklearn.metrics import accuracy_score\n",
        "import numpy as np\n",
        "\n",
        "# Generate binary dataset\n",
        "X, y = make_classification(n_samples=500, n_features=10, n_informative=5, random_state=42)\n",
        "X = np.where(X > 0, 1, 0)  # Convert features to binary\n",
        "\n",
        "X_train, X_test, y_train, y_test = train_test_split(X, y, test_size=0.2, random_state=42)\n",
        "\n",
        "# Train Bernoulli NB\n",
        "bnb = BernoulliNB()\n",
        "bnb.fit(X_train, y_train)\n",
        "y_pred = bnb.predict(X_test)\n",
        "\n",
        "print(\"Accuracy:\", accuracy_score(y_test, y_pred))\n"
      ],
      "metadata": {
        "colab": {
          "base_uri": "https://localhost:8080/"
        },
        "id": "jiK7CDRDXDzM",
        "outputId": "85b1cacf-fca3-46d8-cf90-88943c0ac804"
      },
      "execution_count": 8,
      "outputs": [
        {
          "output_type": "stream",
          "name": "stdout",
          "text": [
            "Accuracy: 0.76\n"
          ]
        }
      ]
    },
    {
      "cell_type": "markdown",
      "source": [
        "Q29: Apply feature scaling before training an SVM model and compare results with unscaled data."
      ],
      "metadata": {
        "id": "Pn6Xc3D6XFoz"
      }
    },
    {
      "cell_type": "code",
      "source": [
        "from sklearn.datasets import load_iris\n",
        "from sklearn.model_selection import train_test_split\n",
        "from sklearn.svm import SVC\n",
        "from sklearn.metrics import accuracy_score\n",
        "from sklearn.preprocessing import StandardScaler\n",
        "\n",
        "iris = load_iris()\n",
        "X, y = iris.data, iris.target\n",
        "X_train, X_test, y_train, y_test = train_test_split(X, y, test_size=0.2, random_state=42)\n",
        "\n",
        "# Without scaling\n",
        "clf_unscaled = SVC(kernel='rbf')\n",
        "clf_unscaled.fit(X_train, y_train)\n",
        "acc_unscaled = accuracy_score(y_test, clf_unscaled.predict(X_test))\n",
        "\n",
        "# With scaling\n",
        "scaler = StandardScaler()\n",
        "X_train_scaled = scaler.fit_transform(X_train)\n",
        "X_test_scaled = scaler.transform(X_test)\n",
        "clf_scaled = SVC(kernel='rbf')\n",
        "clf_scaled.fit(X_train_scaled, y_train)\n",
        "acc_scaled = accuracy_score(y_test, clf_scaled.predict(X_test))\n",
        "\n",
        "print(\"Accuracy without scaling:\", acc_unscaled)\n",
        "print(\"Accuracy with scaling:\", acc_scaled)\n"
      ],
      "metadata": {
        "colab": {
          "base_uri": "https://localhost:8080/"
        },
        "id": "rGmGMfk6XHk6",
        "outputId": "be1af1c9-feb7-4729-f433-662de3a98c9c"
      },
      "execution_count": 9,
      "outputs": [
        {
          "output_type": "stream",
          "name": "stdout",
          "text": [
            "Accuracy without scaling: 1.0\n",
            "Accuracy with scaling: 0.36666666666666664\n"
          ]
        }
      ]
    },
    {
      "cell_type": "markdown",
      "source": [
        "Q30: Train a Gaussian Naïve Bayes model and compare predictions before and after Laplace Smoothing."
      ],
      "metadata": {
        "id": "2J5X4NgCXJR0"
      }
    },
    {
      "cell_type": "code",
      "source": [
        "from sklearn.datasets import load_breast_cancer\n",
        "from sklearn.model_selection import train_test_split\n",
        "from sklearn.naive_bayes import GaussianNB\n",
        "from sklearn.metrics import accuracy_score\n",
        "\n",
        "data = load_breast_cancer()\n",
        "X, y = data.data, data.target\n",
        "X_train, X_test, y_train, y_test = train_test_split(X, y, test_size=0.2, random_state=42)\n",
        "\n",
        "# Without smoothing\n",
        "gnb = GaussianNB(var_smoothing=1e-9)\n",
        "gnb.fit(X_train, y_train)\n",
        "pred1 = gnb.predict(X_test)\n",
        "acc1 = accuracy_score(y_test, pred1)\n",
        "\n",
        "# With smoothing\n",
        "gnb_smooth = GaussianNB(var_smoothing=1e-2)\n",
        "gnb_smooth.fit(X_train, y_train)\n",
        "pred2 = gnb_smooth.predict(X_test)\n",
        "acc2 = accuracy_score(y_test, pred2)\n",
        "\n",
        "print(\"Accuracy without smoothing:\", acc1)\n",
        "print(\"Accuracy with Laplace smoothing:\", acc2)\n"
      ],
      "metadata": {
        "colab": {
          "base_uri": "https://localhost:8080/"
        },
        "id": "RsGl-ldRXOcZ",
        "outputId": "2c33e8a1-4dee-492e-bb03-860b54010339"
      },
      "execution_count": 10,
      "outputs": [
        {
          "output_type": "stream",
          "name": "stdout",
          "text": [
            "Accuracy without smoothing: 0.9736842105263158\n",
            "Accuracy with Laplace smoothing: 0.9473684210526315\n"
          ]
        }
      ]
    },
    {
      "cell_type": "markdown",
      "source": [
        "Q31: Train an SVM Classifier and use GridSearchCV to tune the hyperparameters (C, gamma, kernel)."
      ],
      "metadata": {
        "id": "p1GPt-T0XPLJ"
      }
    },
    {
      "cell_type": "code",
      "source": [
        "from sklearn.model_selection import GridSearchCV\n",
        "from sklearn.datasets import load_wine\n",
        "from sklearn.svm import SVC\n",
        "\n",
        "X, y = load_wine(return_X_y=True)\n",
        "\n",
        "params = {\n",
        "    'C': [0.1, 1, 10],\n",
        "    'gamma': [0.01, 0.1, 1],\n",
        "    'kernel': ['linear', 'rbf']\n",
        "}\n",
        "\n",
        "grid = GridSearchCV(SVC(), param_grid=params, cv=5, scoring='accuracy')\n",
        "grid.fit(X, y)\n",
        "\n",
        "print(\"Best parameters:\", grid.best_params_)\n",
        "print(\"Best accuracy:\", grid.best_score_)\n"
      ],
      "metadata": {
        "colab": {
          "base_uri": "https://localhost:8080/"
        },
        "id": "ZYQO51ZjXRjW",
        "outputId": "8778ade9-cdad-4f3e-d46b-dc58841c521b"
      },
      "execution_count": 11,
      "outputs": [
        {
          "output_type": "stream",
          "name": "stdout",
          "text": [
            "Best parameters: {'C': 0.1, 'gamma': 0.01, 'kernel': 'linear'}\n",
            "Best accuracy: 0.961111111111111\n"
          ]
        }
      ]
    },
    {
      "cell_type": "markdown",
      "source": [
        "Q32: Train an SVM Classifier on an imbalanced dataset and apply class weighting to check improvement."
      ],
      "metadata": {
        "id": "321BH3RgXTPW"
      }
    },
    {
      "cell_type": "code",
      "source": [
        "from sklearn.datasets import make_classification\n",
        "from sklearn.svm import SVC\n",
        "from sklearn.model_selection import train_test_split\n",
        "from sklearn.metrics import accuracy_score\n",
        "\n",
        "X, y = make_classification(n_samples=1000, n_classes=2, weights=[0.9, 0.1],\n",
        "                           n_informative=3, n_redundant=0, random_state=42)\n",
        "\n",
        "X_train, X_test, y_train, y_test = train_test_split(X, y, test_size=0.3, random_state=42)\n",
        "\n",
        "# Without class weight\n",
        "clf = SVC()\n",
        "clf.fit(X_train, y_train)\n",
        "print(\"Accuracy without class weight:\", accuracy_score(y_test, clf.predict(X_test)))\n",
        "\n",
        "# With class weight\n",
        "clf_weighted = SVC(class_weight='balanced')\n",
        "clf_weighted.fit(X_train, y_train)\n",
        "print(\"Accuracy with class weight:\", accuracy_score(y_test, clf_weighted.predict(X_test)))\n"
      ],
      "metadata": {
        "colab": {
          "base_uri": "https://localhost:8080/"
        },
        "id": "gu-NXjxKXVQU",
        "outputId": "e1c168bd-fda1-4b8e-a876-1dccdbb1a426"
      },
      "execution_count": 12,
      "outputs": [
        {
          "output_type": "stream",
          "name": "stdout",
          "text": [
            "Accuracy without class weight: 0.9433333333333334\n",
            "Accuracy with class weight: 0.96\n"
          ]
        }
      ]
    },
    {
      "cell_type": "markdown",
      "source": [
        "Q33: Implement a Naïve Bayes classifier for spam detection using email data."
      ],
      "metadata": {
        "id": "ojOPKJhwXXnh"
      }
    },
    {
      "cell_type": "code",
      "source": [
        "from sklearn.feature_extraction.text import CountVectorizer\n",
        "from sklearn.naive_bayes import MultinomialNB\n",
        "from sklearn.model_selection import train_test_split\n",
        "from sklearn.metrics import accuracy_score\n",
        "\n",
        "# Sample dataset\n",
        "emails = [\"Win money now\", \"Lowest price for you\", \"Meeting schedule\", \"Project deadline tomorrow\", \"Claim your prize now\"]\n",
        "labels = [1, 1, 0, 0, 1]  # 1 = spam, 0 = not spam\n",
        "\n",
        "# Convert text to feature vectors\n",
        "vectorizer = CountVectorizer()\n",
        "X = vectorizer.fit_transform(emails)\n",
        "\n",
        "X_train, X_test, y_train, y_test = train_test_split(X, labels, test_size=0.2, random_state=42)\n",
        "\n",
        "# Train Naïve Bayes\n",
        "nb = MultinomialNB()\n",
        "nb.fit(X_train, y_train)\n",
        "y_pred = nb.predict(X_test)\n",
        "\n",
        "print(\"Accuracy:\", accuracy_score(y_test, y_pred))\n"
      ],
      "metadata": {
        "colab": {
          "base_uri": "https://localhost:8080/"
        },
        "id": "nRTc4oEDXbZH",
        "outputId": "d729aa8e-28a4-48d0-8747-17776da53ef7"
      },
      "execution_count": 13,
      "outputs": [
        {
          "output_type": "stream",
          "name": "stdout",
          "text": [
            "Accuracy: 0.0\n"
          ]
        }
      ]
    },
    {
      "cell_type": "markdown",
      "source": [
        "Q34: Train an SVM Classifier and a Naïve Bayes Classifier on the same dataset and compare accuracy."
      ],
      "metadata": {
        "id": "jM-5zjERXc6B"
      }
    },
    {
      "cell_type": "code",
      "source": [
        "from sklearn.datasets import load_iris\n",
        "from sklearn.model_selection import train_test_split\n",
        "from sklearn.svm import SVC\n",
        "from sklearn.naive_bayes import GaussianNB\n",
        "from sklearn.metrics import accuracy_score\n",
        "\n",
        "X, y = load_iris(return_X_y=True)\n",
        "X_train, X_test, y_train, y_test = train_test_split(X, y, test_size=0.2, random_state=42)\n",
        "\n",
        "# SVM\n",
        "svm_clf = SVC()\n",
        "svm_clf.fit(X_train, y_train)\n",
        "svm_acc = accuracy_score(y_test, svm_clf.predict(X_test))\n",
        "\n",
        "# Naïve Bayes\n",
        "nb = GaussianNB()\n",
        "nb.fit(X_train, y_train)\n",
        "nb_acc = accuracy_score(y_test, nb.predict(X_test))\n",
        "\n",
        "print(\"SVM Accuracy:\", svm_acc)\n",
        "print(\"Naïve Bayes Accuracy:\", nb_acc)\n"
      ],
      "metadata": {
        "colab": {
          "base_uri": "https://localhost:8080/"
        },
        "id": "MMuDgcalXjTA",
        "outputId": "39842300-10d4-4a2d-934b-48cdcbf67882"
      },
      "execution_count": 14,
      "outputs": [
        {
          "output_type": "stream",
          "name": "stdout",
          "text": [
            "SVM Accuracy: 1.0\n",
            "Naïve Bayes Accuracy: 1.0\n"
          ]
        }
      ]
    },
    {
      "cell_type": "markdown",
      "source": [
        "35) Write a Python program to perform feature selection before training a Naïve Bayes classifier and compare results"
      ],
      "metadata": {
        "id": "5bQgOn_KXlHY"
      }
    },
    {
      "cell_type": "code",
      "source": [
        "from sklearn.datasets import load_breast_cancer\n",
        "from sklearn.model_selection import train_test_split\n",
        "from sklearn.naive_bayes import GaussianNB\n",
        "from sklearn.feature_selection import SelectKBest, f_classif\n",
        "from sklearn.metrics import accuracy_score\n",
        "\n",
        "# load dataset\n",
        "data = load_breast_cancer()\n",
        "X, y = data.data, data.target\n",
        "\n",
        "# train test split\n",
        "X_train, X_test, y_train, y_test = train_test_split(X, y, test_size=0.3, random_state=42)\n",
        "\n",
        "# without feature selection\n",
        "clf1 = GaussianNB()\n",
        "clf1.fit(X_train, y_train)\n",
        "y_pred1 = clf1.predict(X_test)\n",
        "acc1 = accuracy_score(y_test, y_pred1)\n",
        "\n",
        "# with feature selection (select top 10 features)\n",
        "selector = SelectKBest(score_func=f_classif, k=10)\n",
        "X_train_sel = selector.fit_transform(X_train, y_train)\n",
        "X_test_sel = selector.transform(X_test)\n",
        "\n",
        "clf2 = GaussianNB()\n",
        "clf2.fit(X_train_sel, y_train)\n",
        "y_pred2 = clf2.predict(X_test_sel)\n",
        "acc2 = accuracy_score(y_test, y_pred2)\n",
        "\n",
        "print(\"Accuracy without feature selection:\", acc1)\n",
        "print(\"Accuracy with feature selection:\", acc2)\n"
      ],
      "metadata": {
        "colab": {
          "base_uri": "https://localhost:8080/"
        },
        "id": "Ck7M-7pyX58k",
        "outputId": "f2e52e3d-5c09-4d63-cf2b-f6fbe4c11523"
      },
      "execution_count": 15,
      "outputs": [
        {
          "output_type": "stream",
          "name": "stdout",
          "text": [
            "Accuracy without feature selection: 0.9415204678362573\n",
            "Accuracy with feature selection: 0.9590643274853801\n"
          ]
        }
      ]
    },
    {
      "cell_type": "markdown",
      "source": [
        "36) Write a Python program to train an SVM Classifier using One-vs-Rest (OvR) and One-vs-One (OvO) strategies on the Wine dataset and compare their accuracy"
      ],
      "metadata": {
        "id": "nfPjkE8MX8HV"
      }
    },
    {
      "cell_type": "code",
      "source": [
        "from sklearn.datasets import load_wine\n",
        "from sklearn.model_selection import train_test_split\n",
        "from sklearn.svm import SVC\n",
        "from sklearn.multiclass import OneVsRestClassifier, OneVsOneClassifier\n",
        "from sklearn.metrics import accuracy_score\n",
        "\n",
        "# load dataset\n",
        "data = load_wine()\n",
        "X, y = data.data, data.target\n",
        "\n",
        "X_train, X_test, y_train, y_test = train_test_split(X, y, test_size=0.3, random_state=42)\n",
        "\n",
        "# One-vs-Rest\n",
        "ovr = OneVsRestClassifier(SVC(kernel='linear'))\n",
        "ovr.fit(X_train, y_train)\n",
        "y_pred1 = ovr.predict(X_test)\n",
        "acc1 = accuracy_score(y_test, y_pred1)\n",
        "\n",
        "# One-vs-One\n",
        "ovo = OneVsOneClassifier(SVC(kernel='linear'))\n",
        "ovo.fit(X_train, y_train)\n",
        "y_pred2 = ovo.predict(X_test)\n",
        "acc2 = accuracy_score(y_test, y_pred2)\n",
        "\n",
        "print(\"OvR Accuracy:\", acc1)\n",
        "print(\"OvO Accuracy:\", acc2)\n"
      ],
      "metadata": {
        "colab": {
          "base_uri": "https://localhost:8080/"
        },
        "id": "X6upCpLdX_8K",
        "outputId": "37cdd444-8a13-431e-9d9f-aa974a28cb96"
      },
      "execution_count": 16,
      "outputs": [
        {
          "output_type": "stream",
          "name": "stdout",
          "text": [
            "OvR Accuracy: 0.9814814814814815\n",
            "OvO Accuracy: 0.9814814814814815\n"
          ]
        }
      ]
    },
    {
      "cell_type": "markdown",
      "source": [
        "37) Write a Python program to train an SVM Classifier using Linear, Polynomial, and RBF kernels on the Breast Cancer dataset and compare their accuracy"
      ],
      "metadata": {
        "id": "DMkY7JiyYCS7"
      }
    },
    {
      "cell_type": "code",
      "source": [
        "from sklearn.datasets import load_breast_cancer\n",
        "from sklearn.model_selection import train_test_split\n",
        "from sklearn.svm import SVC\n",
        "from sklearn.metrics import accuracy_score\n",
        "\n",
        "# load dataset\n",
        "data = load_breast_cancer()\n",
        "X, y = data.data, data.target\n",
        "\n",
        "X_train, X_test, y_train, y_test = train_test_split(X, y, test_size=0.3, random_state=42)\n",
        "\n",
        "kernels = ['linear', 'poly', 'rbf']\n",
        "for kernel in kernels:\n",
        "    clf = SVC(kernel=kernel)\n",
        "    clf.fit(X_train, y_train)\n",
        "    y_pred = clf.predict(X_test)\n",
        "    print(f\"Kernel={kernel}, Accuracy={accuracy_score(y_test, y_pred)}\")\n"
      ],
      "metadata": {
        "colab": {
          "base_uri": "https://localhost:8080/"
        },
        "id": "qzRycI-NYG_0",
        "outputId": "7b2f23d4-d02d-4d93-e167-f885c6f5a671"
      },
      "execution_count": 17,
      "outputs": [
        {
          "output_type": "stream",
          "name": "stdout",
          "text": [
            "Kernel=linear, Accuracy=0.9649122807017544\n",
            "Kernel=poly, Accuracy=0.9415204678362573\n",
            "Kernel=rbf, Accuracy=0.935672514619883\n"
          ]
        }
      ]
    },
    {
      "cell_type": "markdown",
      "source": [
        "38) Write a Python program to train an SVM Classifier using Stratified K-Fold Cross-Validation and compute the average accuracy"
      ],
      "metadata": {
        "id": "dvwtFCIYYJxL"
      }
    },
    {
      "cell_type": "code",
      "source": [
        "from sklearn.datasets import load_wine\n",
        "from sklearn.model_selection import StratifiedKFold, cross_val_score\n",
        "from sklearn.svm import SVC\n",
        "\n",
        "# load dataset\n",
        "data = load_wine()\n",
        "X, y = data.data, data.target\n",
        "\n",
        "clf = SVC(kernel='linear', C=1)\n",
        "\n",
        "cv = StratifiedKFold(n_splits=5)\n",
        "scores = cross_val_score(clf, X, y, cv=cv)\n",
        "\n",
        "print(\"Cross-validation accuracies:\", scores)\n",
        "print(\"Average accuracy:\", scores.mean())\n"
      ],
      "metadata": {
        "colab": {
          "base_uri": "https://localhost:8080/"
        },
        "id": "l6g3RB00YNhA",
        "outputId": "ccad848c-ce14-4e50-ef2a-7301d1810d7d"
      },
      "execution_count": 18,
      "outputs": [
        {
          "output_type": "stream",
          "name": "stdout",
          "text": [
            "Cross-validation accuracies: [0.88888889 0.94444444 0.97222222 1.         1.        ]\n",
            "Average accuracy: 0.961111111111111\n"
          ]
        }
      ]
    },
    {
      "cell_type": "markdown",
      "source": [
        "39) Write a Python program to train a Naïve Bayes classifier using different prior probabilities and compare performance"
      ],
      "metadata": {
        "id": "OqkPW3NiYP4t"
      }
    },
    {
      "cell_type": "code",
      "source": [
        "from sklearn.datasets import load_breast_cancer\n",
        "from sklearn.model_selection import train_test_split\n",
        "from sklearn.naive_bayes import GaussianNB\n",
        "from sklearn.metrics import accuracy_score\n",
        "\n",
        "# load dataset\n",
        "data = load_breast_cancer()\n",
        "X, y = data.data, data.target\n",
        "\n",
        "X_train, X_test, y_train, y_test = train_test_split(X, y, test_size=0.3, random_state=42)\n",
        "\n",
        "# default priors\n",
        "clf1 = GaussianNB()\n",
        "clf1.fit(X_train, y_train)\n",
        "y_pred1 = clf1.predict(X_test)\n",
        "acc1 = accuracy_score(y_test, y_pred1)\n",
        "\n",
        "# custom priors\n",
        "clf2 = GaussianNB(priors=[0.3, 0.7])\n",
        "clf2.fit(X_train, y_train)\n",
        "y_pred2 = clf2.predict(X_test)\n",
        "acc2 = accuracy_score(y_test, y_pred2)\n",
        "\n",
        "print(\"Accuracy with default priors:\", acc1)\n",
        "print(\"Accuracy with custom priors:\", acc2)\n"
      ],
      "metadata": {
        "colab": {
          "base_uri": "https://localhost:8080/"
        },
        "id": "TpSrgVp5YUK5",
        "outputId": "d03d35f5-ba91-4747-a69e-ce4292fc0adf"
      },
      "execution_count": 19,
      "outputs": [
        {
          "output_type": "stream",
          "name": "stdout",
          "text": [
            "Accuracy with default priors: 0.9415204678362573\n",
            "Accuracy with custom priors: 0.9473684210526315\n"
          ]
        }
      ]
    },
    {
      "cell_type": "markdown",
      "source": [
        "40) Write a Python program to perform Recursive Feature Elimination (RFE) before training an SVM Classifier and compare accuracy"
      ],
      "metadata": {
        "id": "fwkiz200YV4V"
      }
    },
    {
      "cell_type": "code",
      "source": [
        "from sklearn.datasets import load_wine\n",
        "from sklearn.model_selection import train_test_split\n",
        "from sklearn.svm import SVC\n",
        "from sklearn.feature_selection import RFE\n",
        "from sklearn.metrics import accuracy_score\n",
        "\n",
        "# load dataset\n",
        "data = load_wine()\n",
        "X, y = data.data, data.target\n",
        "\n",
        "X_train, X_test, y_train, y_test = train_test_split(X, y, test_size=0.3, random_state=42)\n",
        "\n",
        "# without RFE\n",
        "clf1 = SVC(kernel='linear')\n",
        "clf1.fit(X_train, y_train)\n",
        "y_pred1 = clf1.predict(X_test)\n",
        "acc1 = accuracy_score(y_test, y_pred1)\n",
        "\n",
        "# with RFE\n",
        "selector = RFE(estimator=SVC(kernel='linear'), n_features_to_select=5)\n",
        "X_train_sel = selector.fit_transform(X_train, y_train)\n",
        "X_test_sel = selector.transform(X_test)\n",
        "\n",
        "clf2 = SVC(kernel='linear')\n",
        "clf2.fit(X_train_sel, y_train)\n",
        "y_pred2 = clf2.predict(X_test_sel)\n",
        "acc2 = accuracy_score(y_test, y_pred2)\n",
        "\n",
        "print(\"Accuracy without RFE:\", acc1)\n",
        "print(\"Accuracy with RFE:\", acc2)\n"
      ],
      "metadata": {
        "colab": {
          "base_uri": "https://localhost:8080/"
        },
        "id": "hvUm-iSmYZhH",
        "outputId": "c9b726cc-c2d4-46b7-8fea-8aaccbeaf515"
      },
      "execution_count": 20,
      "outputs": [
        {
          "output_type": "stream",
          "name": "stdout",
          "text": [
            "Accuracy without RFE: 0.9814814814814815\n",
            "Accuracy with RFE: 0.9629629629629629\n"
          ]
        }
      ]
    },
    {
      "cell_type": "markdown",
      "source": [
        "41) Write a Python program to train an SVM Classifier and evaluate its performance using Precision, Recall, and F1-Score instead of accuracy"
      ],
      "metadata": {
        "id": "iJ38PivGYbpV"
      }
    },
    {
      "cell_type": "code",
      "source": [
        "from sklearn.datasets import load_breast_cancer\n",
        "from sklearn.model_selection import train_test_split\n",
        "from sklearn.svm import SVC\n",
        "from sklearn.metrics import precision_score, recall_score, f1_score\n",
        "\n",
        "# load dataset\n",
        "data = load_breast_cancer()\n",
        "X, y = data.data, data.target\n",
        "\n",
        "X_train, X_test, y_train, y_test = train_test_split(X, y, test_size=0.3, random_state=42)\n",
        "\n",
        "clf = SVC(kernel='linear')\n",
        "clf.fit(X_train, y_train)\n",
        "y_pred = clf.predict(X_test)\n",
        "\n",
        "precision = precision_score(y_test, y_pred)\n",
        "recall = recall_score(y_test, y_pred)\n",
        "f1 = f1_score(y_test, y_pred)\n",
        "\n",
        "print(\"Precision:\", precision)\n",
        "print(\"Recall:\", recall)\n",
        "print(\"F1 Score:\", f1)\n"
      ],
      "metadata": {
        "colab": {
          "base_uri": "https://localhost:8080/"
        },
        "id": "oJgSwNgdYjYQ",
        "outputId": "69909974-5e8b-4e1a-b79d-0d61384a3419"
      },
      "execution_count": 21,
      "outputs": [
        {
          "output_type": "stream",
          "name": "stdout",
          "text": [
            "Precision: 0.9636363636363636\n",
            "Recall: 0.9814814814814815\n",
            "F1 Score: 0.9724770642201835\n"
          ]
        }
      ]
    },
    {
      "cell_type": "markdown",
      "source": [
        "42) Write a Python program to train a Naïve Bayes Classifier and evaluate its performance using Log Loss (Cross-Entropy Loss)"
      ],
      "metadata": {
        "id": "GRn6_FD2Yl4W"
      }
    },
    {
      "cell_type": "code",
      "source": [
        "from sklearn.datasets import load_breast_cancer\n",
        "from sklearn.model_selection import train_test_split\n",
        "from sklearn.naive_bayes import GaussianNB\n",
        "from sklearn.metrics import log_loss\n",
        "\n",
        "# load dataset\n",
        "data = load_breast_cancer()\n",
        "X, y = data.data, data.target\n",
        "\n",
        "X_train, X_test, y_train, y_test = train_test_split(X, y, test_size=0.3, random_state=42)\n",
        "\n",
        "clf = GaussianNB()\n",
        "clf.fit(X_train, y_train)\n",
        "y_pred_prob = clf.predict_proba(X_test)\n",
        "\n",
        "loss = log_loss(y_test, y_pred_prob)\n",
        "print(\"Log Loss:\", loss)\n"
      ],
      "metadata": {
        "colab": {
          "base_uri": "https://localhost:8080/"
        },
        "id": "00VrasrjYp3y",
        "outputId": "9a70969e-f40b-48f6-b082-4dc2b26ae33d"
      },
      "execution_count": 22,
      "outputs": [
        {
          "output_type": "stream",
          "name": "stdout",
          "text": [
            "Log Loss: 0.48986013210958873\n"
          ]
        }
      ]
    },
    {
      "cell_type": "markdown",
      "source": [
        "43) Write a Python program to train an SVM Classifier and visualize the Confusion Matrix using seaborn"
      ],
      "metadata": {
        "id": "XYV-l2e1Yr45"
      }
    },
    {
      "cell_type": "code",
      "source": [
        "import seaborn as sns\n",
        "import matplotlib.pyplot as plt\n",
        "from sklearn.datasets import load_breast_cancer\n",
        "from sklearn.model_selection import train_test_split\n",
        "from sklearn.svm import SVC\n",
        "from sklearn.metrics import confusion_matrix\n",
        "\n",
        "# load dataset\n",
        "data = load_breast_cancer()\n",
        "X, y = data.data, data.target\n",
        "\n",
        "X_train, X_test, y_train, y_test = train_test_split(X, y, test_size=0.3, random_state=42)\n",
        "\n",
        "clf = SVC(kernel='linear')\n",
        "clf.fit(X_train, y_train)\n",
        "y_pred = clf.predict(X_test)\n",
        "\n",
        "cm = confusion_matrix(y_test, y_pred)\n",
        "\n",
        "sns.heatmap(cm, annot=True, fmt=\"d\", cmap=\"Blues\")\n",
        "plt.xlabel(\"Predicted\")\n",
        "plt.ylabel(\"Actual\")\n",
        "plt.title(\"Confusion Matrix - SVM Classifier\")\n",
        "plt.show()\n"
      ],
      "metadata": {
        "colab": {
          "base_uri": "https://localhost:8080/",
          "height": 472
        },
        "id": "u-9XHPfAYyFd",
        "outputId": "6b81a4be-9a7b-4d08-afde-b5cac2d299c1"
      },
      "execution_count": 23,
      "outputs": [
        {
          "output_type": "display_data",
          "data": {
            "text/plain": [
              "<Figure size 640x480 with 2 Axes>"
            ],
            "image/png": "[encoded data removed]"
          },
          "metadata": {}
        }
      ]
    },
    {
      "cell_type": "markdown",
      "source": [
        "44) Write a Python program to train an SVM Regressor (SVR) and evaluate its performance using Mean Absolute Error (MAE) instead of MSE"
      ],
      "metadata": {
        "id": "iG_AIcebYzuz"
      }
    },
    {
      "cell_type": "code",
      "source": [
        "from sklearn.datasets import fetch_california_housing\n",
        "from sklearn.model_selection import train_test_split\n",
        "from sklearn.svm import SVR\n",
        "from sklearn.metrics import mean_absolute_error\n",
        "\n",
        "# load dataset\n",
        "data = fetch_california_housing()\n",
        "X, y = data.data, data.target\n",
        "\n",
        "X_train, X_test, y_train, y_test = train_test_split(X, y, test_size=0.3, random_state=42)\n",
        "\n",
        "regressor = SVR(kernel='rbf')\n",
        "regressor.fit(X_train, y_train)\n",
        "y_pred = regressor.predict(X_test)\n",
        "\n",
        "mae = mean_absolute_error(y_test, y_pred)\n",
        "print(\"Mean Absolute Error:\", mae)\n"
      ],
      "metadata": {
        "colab": {
          "base_uri": "https://localhost:8080/"
        },
        "id": "v7oUXV6PY3fW",
        "outputId": "fdd025c9-16fe-4ff3-9a55-6f9763da84f9"
      },
      "execution_count": 24,
      "outputs": [
        {
          "output_type": "stream",
          "name": "stdout",
          "text": [
            "Mean Absolute Error: 0.8664984635504496\n"
          ]
        }
      ]
    },
    {
      "cell_type": "markdown",
      "source": [
        "45) Write a Python program to train a Naïve Bayes classifier and evaluate its performance using the ROC-AUC score"
      ],
      "metadata": {
        "id": "yKEtiwfRY5nh"
      }
    },
    {
      "cell_type": "code",
      "source": [
        "from sklearn.datasets import load_breast_cancer\n",
        "from sklearn.model_selection import train_test_split\n",
        "from sklearn.naive_bayes import GaussianNB\n",
        "from sklearn.metrics import roc_auc_score\n",
        "\n",
        "# load dataset\n",
        "data = load_breast_cancer()\n",
        "X, y = data.data, data.target\n",
        "\n",
        "X_train, X_test, y_train, y_test = train_test_split(X, y, test_size=0.3, random_state=42)\n",
        "\n",
        "clf = GaussianNB()\n",
        "clf.fit(X_train, y_train)\n",
        "y_pred_prob = clf.predict_proba(X_test)[:, 1]\n",
        "\n",
        "roc_auc = roc_auc_score(y_test, y_pred_prob)\n",
        "print(\"ROC-AUC Score:\", roc_auc)\n"
      ],
      "metadata": {
        "colab": {
          "base_uri": "https://localhost:8080/"
        },
        "id": "4bGU53F7Y80n",
        "outputId": "26052a35-8d1d-4d0c-bfcc-91fc8fbae672"
      },
      "execution_count": 25,
      "outputs": [
        {
          "output_type": "stream",
          "name": "stdout",
          "text": [
            "ROC-AUC Score: 0.9922104644326867\n"
          ]
        }
      ]
    },
    {
      "cell_type": "markdown",
      "source": [
        "46) Write a Python program to train an SVM Classifier and visualize the Precision-Recall Curve"
      ],
      "metadata": {
        "id": "zmFS9A3mY-0D"
      }
    },
    {
      "cell_type": "code",
      "source": [
        "import matplotlib.pyplot as plt\n",
        "from sklearn.datasets import load_breast_cancer\n",
        "from sklearn.model_selection import train_test_split\n",
        "from sklearn.svm import SVC\n",
        "from sklearn.metrics import precision_recall_curve\n",
        "\n",
        "# load dataset\n",
        "data = load_breast_cancer()\n",
        "X, y = data.data, data.target\n",
        "\n",
        "X_train, X_test, y_train, y_test = train_test_split(X, y, test_size=0.3, random_state=42)\n",
        "\n",
        "clf = SVC(kernel='linear', probability=True)\n",
        "clf.fit(X_train, y_train)\n",
        "y_scores = clf.predict_proba(X_test)[:, 1]\n",
        "\n",
        "precision, recall, thresholds = precision_recall_curve(y_test, y_scores)\n",
        "\n",
        "plt.plot(recall, precision, marker='.')\n",
        "plt.xlabel(\"Recall\")\n",
        "plt.ylabel(\"Precision\")\n",
        "plt.title(\"Precision-Recall Curve - SVM Classifier\")\n",
        "plt.show()\n"
      ],
      "metadata": {
        "colab": {
          "base_uri": "https://localhost:8080/",
          "height": 472
        },
        "id": "zWFEZ9cjZC2q",
        "outputId": "f637dc8a-714a-4368-f01b-e4ba4f7150bc"
      },
      "execution_count": 26,
      "outputs": [
        {
          "output_type": "display_data",
          "data": {
            "text/plain": [
              "<Figure size 640x480 with 1 Axes>"
            ],
            "image/png": "[encoded data removed]"
          },
          "metadata": {}
        }
      ]
    }
  ]
}